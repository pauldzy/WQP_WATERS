{
 "cells": [
  {
   "cell_type": "code",
   "execution_count": 44,
   "id": "161f668f",
   "metadata": {},
   "outputs": [],
   "source": [
    "import arcpy;\n",
    "import os,sys;\n",
    "import requests,csv,codecs;\n",
    "import sqlite3;\n",
    "\n",
    "if not os.path.exists('scratch'):\n",
    "    os.mkdir('scratch');\n",
    "    \n",
    "if not os.path.exists('scratch' + os.sep + 'working.gpkg'):\n",
    "    arcpy.management.CreateSQLiteDatabase(\n",
    "         out_database_name = os.path.abspath('scratch' + os.sep + 'working')\n",
    "        ,spatial_type      = 'GEOPACKAGE_1.3'\n",
    "    );\n"
   ]
  },
  {
   "cell_type": "markdown",
   "id": "17947211",
   "metadata": {},
   "source": [
    "### Download the WQP station dataset\n",
    "I don't know your criteria so I just downloaded stations in Rhode Island for a small set"
   ]
  },
  {
   "cell_type": "code",
   "execution_count": 45,
   "id": "e0a2c8d4",
   "metadata": {},
   "outputs": [
    {
     "name": "stdout",
     "output_type": "stream",
     "text": [
      "Downloaded 5135 records from WQP.\n"
     ]
    }
   ],
   "source": [
    "target = 'scratch' + os.sep + 'wqp_input.csv';\n",
    "\n",
    "if os.path.exists(target):\n",
    "    os.remove(target);\n",
    "\n",
    "row_cnt = 0;\n",
    "with open(target,'w',newline='',encoding='utf-8') as f:\n",
    "    writer = csv.writer(f,delimiter=',');\n",
    "    \n",
    "    parms = {'statecode':'US:44','mimeType':'csv','sorted':'no'};\n",
    "    r = requests.get('https://www.waterqualitydata.us/data/Station/search',params=parms,stream=True);\n",
    "    rd = [line.decode('utf-8') for line in r.iter_lines()];\n",
    "    cr = csv.reader(rd);\n",
    "    \n",
    "    header = True;\n",
    "    for row in cr:\n",
    "        \n",
    "        if header:\n",
    "            header = False;\n",
    "\n",
    "            for idx,ch in enumerate(row):\n",
    "                row[idx] = row[idx].replace('/','_');\n",
    "\n",
    "            writer.writerow(row);\n",
    "\n",
    "        else:\n",
    "            for idx,ch in enumerate(row):\n",
    "                row[idx] = row[idx].replace(u'\\u00b6','');\n",
    "\n",
    "            writer.writerow(row);\n",
    "            row_cnt += 1;\n",
    "    \n",
    "print(\"Downloaded \" + str(row_cnt) + \" records from WQP.\");"
   ]
  },
  {
   "cell_type": "markdown",
   "id": "3d216f1c",
   "metadata": {},
   "source": [
    "### Load WQP CSV into Geopackage"
   ]
  },
  {
   "cell_type": "code",
   "execution_count": 46,
   "id": "600701af",
   "metadata": {},
   "outputs": [
    {
     "name": "stdout",
     "output_type": "stream",
     "text": [
      "Loaded 5135 WQP records into Geopackage.\n"
     ]
    }
   ],
   "source": [
    "source = 'scratch' + os.sep + 'wqp_input.csv';\n",
    "target = 'scratch' + os.sep + 'working.gpkg' + os.sep + 'wqp_input';\n",
    "\n",
    "if arcpy.Exists(target):\n",
    "    arcpy.Delete_management(target);\n",
    "    \n",
    "arcpy.conversion.TableToTable(\n",
    "     in_rows   = source\n",
    "    ,out_path  = os.path.dirname(target)\n",
    "    ,out_name  = os.path.basename(target)\n",
    ");\n",
    "\n",
    "arcpy.management.AddIndex(\n",
    "     in_table   = target\n",
    "    ,fields     = 'MonitoringLocationIdentifier'\n",
    "    ,index_name = 'MonitoringLocationIdentifier_idx'\n",
    ");\n",
    "\n",
    "gpkg_cnt = arcpy.GetCount_management(target)[0];\n",
    "print(\"Loaded \" + str(gpkg_cnt) + \" WQP records into Geopackage.\");"
   ]
  },
  {
   "cell_type": "markdown",
   "id": "d2487915",
   "metadata": {},
   "source": [
    "### Download Office of WATER Linked Data for WQP\n"
   ]
  },
  {
   "cell_type": "code",
   "execution_count": 47,
   "id": "ab18dbd4",
   "metadata": {},
   "outputs": [
    {
     "name": "stdout",
     "output_type": "stream",
     "text": [
      "Downloaded 4898 OWLD records into Geopackage.\n"
     ]
    }
   ],
   "source": [
    "target = 'scratch' + os.sep + 'working.gpkg' + os.sep + 'owld_input';\n",
    "\n",
    "if arcpy.Exists(target):\n",
    "    arcpy.Delete_management(target);\n",
    "    \n",
    "host         = \"watersgeo.epa.gov\";\n",
    "service_path = \"/arcgis/rest/services/owld/wqp/MapServer/3\";\n",
    "#where = \"1=1\";\n",
    "where = \"geogstate = 'RI'\";\n",
    "\n",
    "headers = {\"Content-type\": \"application/x-www-form-urlencoded\", \"Accept\": \"text/plain\"};\n",
    "parms   = {\"f\": \"json\"};\n",
    "r = requests.post('https://' + host + service_path,params=parms);\n",
    "r_json = r.json();\n",
    "extraction_amount = r_json['maxRecordCount'];\n",
    "\n",
    "if not 'currentVersion' in r_json:\n",
    "    raise ValueError(\"Error, unable to query https://\" + host + service_path);\n",
    "    \n",
    "parms = {\"where\": where,\"returnCountOnly\": \"true\",\"f\": \"json\"};\n",
    "r = requests.post('https://' + host + service_path + '/query',params=parms);\n",
    "r_json = r.json();\n",
    "total_records = r_json['count'];\n",
    "\n",
    "result_offset = 0;\n",
    "initial_hit = True;\n",
    "while result_offset <= total_records:\n",
    " \n",
    "    parms = {\n",
    "         \"where\": where\n",
    "        ,\"outFields\": \"*\"\n",
    "        ,\"resultOffset\": result_offset\n",
    "        ,\"resultRecordCount\": extraction_amount\n",
    "        ,\"returnGeometry\": \"true\"\n",
    "        ,\"f\": \"json\"\n",
    "    };\n",
    "\n",
    "    r = requests.post('https://' + host + service_path + '/query',params=parms);\n",
    "    json_data = r.json();\n",
    "    ef = arcpy.AsShape(json_data,True)\n",
    "   \n",
    "    if initial_hit:\n",
    "        arcpy.management.CopyFeatures(ef,target)\n",
    "        initial_hit = False;\n",
    "    else:\n",
    "        arcpy.Append_management(ef,target,\"NO_TEST\");\n",
    "      \n",
    "    result_offset += extraction_amount;\n",
    "\n",
    "arcpy.management.AddIndex(\n",
    "     in_table   = target\n",
    "    ,fields     = 'source_featureid'\n",
    "    ,index_name = 'source_featureid_idx'\n",
    ");\n",
    "\n",
    "owld_cnt = arcpy.GetCount_management(target)[0];\n",
    "print(\"Downloaded \" + str(owld_cnt) + \" OWLD records into Geopackage.\");"
   ]
  },
  {
   "cell_type": "markdown",
   "id": "a70f8806",
   "metadata": {},
   "source": [
    "### Join WQP and OWLD together to create new table with NHDPlus reach measures\n",
    "\n",
    "Note I am somewhat avoiding the issue of what to do about WQP stations newly added since the last WQP refresh of OWLD. "
   ]
  },
  {
   "cell_type": "code",
   "execution_count": 54,
   "id": "8a701798",
   "metadata": {},
   "outputs": [
    {
     "name": "stdout",
     "output_type": "stream",
     "text": [
      "Joined together 4896 records.\n"
     ]
    }
   ],
   "source": [
    "target  = 'scratch' + os.sep + 'working.gpkg' + os.sep + 'wqp_indexed';\n",
    "source  = 'scratch' + os.sep + 'working.gpkg' + os.sep + 'wqp_input';\n",
    "source2 = 'scratch' + os.sep + 'working.gpkg' + os.sep + 'owld_input';\n",
    "\n",
    "if arcpy.Exists(target):\n",
    "    arcpy.Delete_management(target);\n",
    "\n",
    "arcpy.conversion.TableToTable(\n",
    "     in_rows      = source\n",
    "    ,out_path     = os.path.dirname(target)\n",
    "    ,out_name     = os.path.basename(target)\n",
    ");\n",
    "\n",
    "arcpy.management.JoinField(\n",
    "     in_data    = target\n",
    "    ,in_field   = 'MonitoringLocationIdentifier'\n",
    "    ,join_table = source2\n",
    "    ,join_field = 'source_featureid'\n",
    "    ,fields     = ['feature_permanent_identifier','reachcode','measure','navigable']\n",
    ");\n",
    "\n",
    "arcpy.management.AddField(\n",
    "     in_table   = target\n",
    "    ,field_name = 'nhdplusid'\n",
    "    ,field_type = 'FLOAT'\n",
    ");\n",
    "\n",
    "with arcpy.da.UpdateCursor(\n",
    "     in_table    = target\n",
    "    ,field_names = ['feature_permanent_identifier','nhdplusid']\n",
    ") as cursor:\n",
    "    for row in cursor:\n",
    "        if row[0] is None or row[0] == '':\n",
    "            cursor.deleteRow();\n",
    "        else:\n",
    "            row[1] = float(row[0]);\n",
    "            cursor.updateRow(row);\n",
    "            \n",
    "arcpy.management.DeleteField(\n",
    "     in_table   = target\n",
    "    ,drop_field = 'feature_permanent_identifier'\n",
    ");\n",
    "\n",
    "join_cnt = arcpy.GetCount_management(target)[0];\n",
    "print(\"Joined together \" + str(join_cnt) + \" records.\");"
   ]
  },
  {
   "cell_type": "code",
   "execution_count": null,
   "id": "ee3792a9",
   "metadata": {},
   "outputs": [],
   "source": []
  }
 ],
 "metadata": {
  "kernelspec": {
   "display_name": "Python 3",
   "language": "python",
   "name": "python3"
  },
  "language_info": {
   "codemirror_mode": {
    "name": "ipython",
    "version": 3
   },
   "file_extension": ".py",
   "mimetype": "text/x-python",
   "name": "python",
   "nbconvert_exporter": "python",
   "pygments_lexer": "ipython3",
   "version": "3.7.11"
  }
 },
 "nbformat": 4,
 "nbformat_minor": 5
}
